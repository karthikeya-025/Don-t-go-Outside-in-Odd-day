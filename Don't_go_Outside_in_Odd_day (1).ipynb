{
  "nbformat": 4,
  "nbformat_minor": 0,
  "metadata": {
    "colab": {
      "provenance": []
    },
    "kernelspec": {
      "name": "python3",
      "display_name": "Python 3"
    },
    "language_info": {
      "name": "python"
    }
  },
  "cells": [
    {
      "cell_type": "code",
      "execution_count": 6,
      "metadata": {
        "colab": {
          "base_uri": "https://localhost:8080/"
        },
        "id": "wmxNMUOyG2te",
        "outputId": "0ea6013b-2397-4b45-bbcb-045ec8e63470"
      },
      "outputs": [
        {
          "output_type": "stream",
          "name": "stdout",
          "text": [
            "Number of even numbers in the above sequence is :  4\n",
            "Number of odd numbers in the above sequence is  :  5\n"
          ]
        }
      ],
      "source": [
        "numbers = (1,2,3,4,5,6,7,8,9)\n",
        "\n",
        "even_nums = 0\n",
        "odd_nums = 0\n",
        "\n",
        "for num in range(0,len(numbers)):\n",
        "  if numbers[num]%2 == 0:\n",
        "    even_nums+=1\n",
        "  else:\n",
        "    odd_nums+=1\n",
        "print(\"Number of even numbers in the above sequence is : \",even_nums)\n",
        "print(\"Number of odd numbers in the above sequence is  : \",odd_nums)"
      ]
    }
  ]
}